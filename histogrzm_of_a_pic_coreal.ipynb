{
  "nbformat": 4,
  "nbformat_minor": 0,
  "metadata": {
    "colab": {
      "name": "histogrzm_of_a_pic_coreal.ipynb",
      "provenance": [],
      "collapsed_sections": []
    },
    "kernelspec": {
      "display_name": "Python 3",
      "name": "python3"
    },
    "language_info": {
      "name": "python"
    }
  },
  "cells": [
    {
      "cell_type": "code",
      "metadata": {
        "id": "Hqv3HtcZXJT1"
      },
      "source": [
        "!unzip 'c.zip'"
      ],
      "execution_count": null,
      "outputs": []
    },
    {
      "cell_type": "code",
      "metadata": {
        "id": "KYKICk2z7fjd"
      },
      "source": [
        "import numpy as np\n",
        "import matplotlib.pyplot as plt\n",
        "from matplotlib.image import imread\n",
        "\n",
        "def plotHistogram(histogram):\n",
        "  plt.bar(range(len(histogram)), list(histogram), align='center')\n",
        "  plt.xticks([i for i in range(256)], [i for i in range(256)])\n",
        "  plt.show()\n",
        "\n",
        "def plotChannel(channel):\n",
        "  plt.imshow(channel,cmap='gray',vmin = 0, vmax = 255)\n",
        "  plt.show()\n",
        "\n",
        "def vectorDistance(v1,v2):\n",
        "  return np.mean(np.square(v1-v2))\n",
        "\n",
        "def getHist(channel):\n",
        "  unique, counts = np.unique(channel, return_counts=True)\n",
        "  points=dict(zip(unique, counts))\n",
        "  for i in range(256):\n",
        "    if i not in points:\n",
        "      points[i]=0\n",
        "  hist=[]\n",
        "  for i in range(256):\n",
        "    hist.append(points[i])\n",
        "  return np.array(hist)\n",
        "\n",
        "def imageDistance(img1,img2):\n",
        "  splitedImage1=np.split(img1,[0,1,2],axis=2)\n",
        "  r1=getHist(np.squeeze(splitedImage1[1]))\n",
        "  g1=getHist(np.squeeze(splitedImage1[2]))\n",
        "  b1=getHist(np.squeeze(splitedImage1[3]))\n",
        "  \n",
        "  splitedImage2=np.split(img2,[0,1,2],axis=2)\n",
        "  r2=getHist(np.squeeze(splitedImage2[1]))\n",
        "  g2=getHist(np.squeeze(splitedImage2[2]))\n",
        "  b2=getHist(np.squeeze(splitedImage2[3]))\n",
        "  \n",
        "  redDistance=vectorDistance(r1,r2)\n",
        "  greenDistance=vectorDistance(g1,g2)\n",
        "  blueDistance=vectorDistance(b1,b2)\n",
        "  return redDistance+greenDistance+blueDistance\n"
      ],
      "execution_count": null,
      "outputs": []
    },
    {
      "cell_type": "code",
      "metadata": {
        "id": "6f2JVcYEO5N1"
      },
      "source": [
        "\n",
        "# for referenceIndex in [99,199,299,399,499,599,699,799,899,999]:\n",
        "referenceIndex=99\n",
        "referenceImage=np.array(imread(f'c/{referenceIndex}.jpg'))\n",
        "distanceMatrix=[]\n",
        "for i in range(1000):\n",
        "  distanceMatrix.append(imageDistance(referenceImage,np.array(imread(f'c/{i}.jpg'))))\n",
        "distanceMatrix=sorted(range(len(distanceMatrix)), key=lambda k: distanceMatrix[k])\n",
        "top10=distanceMatrix[1:11:]\n",
        "match=0\n",
        "plt.imshow(referenceImage)\n",
        "plt.show()\n",
        "print(f\"++++++++++++++++++ matched images for picture {referenceIndex}.jpg: ++++++++++++++++++\")\n",
        "for i in top10:\n",
        "  plt.imshow(imread(f'c/{i}.jpg'))\n",
        "  plt.show()\n",
        "  if i <referenceIndex and i>=referenceIndex-99:\n",
        "    match+=1\n",
        "print(f\"item: {referenceIndex}.jpg  amount of: {match*10}% of similar pictures are form item's category\")\n",
        "print(f\"---------------------------------------------------------------------\")\n",
        "print(f\"---------------------------------------------------------------------\")\n",
        "print(f\"---------------------------------------------------------------------\")\n",
        "print(f\"\\n\\n\\n\\n\")\n",
        "\n"
      ],
      "execution_count": null,
      "outputs": []
    },
    {
      "cell_type": "code",
      "metadata": {
        "id": "2_BOhhfq7bW6"
      },
      "source": [
        "# for plot red channle of picture number 99:\n",
        "#\n",
        "# referenceIndex=99\n",
        "# referenceImage=np.array(imread(f'c/{referenceIndex}.jpg'))\n",
        "# splited=np.split(referenceImage,[0,1,2],axis=2)\n",
        "# red_channel=np.squeeze(splited[1])\n",
        "# green_channel=np.squeeze(splited[2])\n",
        "# blue_channel=np.squeeze(splited[3])\n",
        "# plotChannel(red_channel)\n",
        "# plotHistogram(getHist(red_channel))"
      ],
      "execution_count": null,
      "outputs": []
    }
  ]
}